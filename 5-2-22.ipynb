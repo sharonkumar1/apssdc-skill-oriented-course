{
 "cells": [
  {
   "cell_type": "markdown",
   "id": "b088957b",
   "metadata": {},
   "source": [
    "### File handling\n",
    "- File: file is a named location or memory used to store relative information \n",
    "    - .csv,.py.html,.txt,.ipny,mp4\n",
    "- filehandling : it allows  user to handle files\n",
    "- compared to other languages programming in file handling is easy in python\n",
    "- Read and write files.along with the other files handle options to work on file\n",
    "- steps of the handling\n",
    "    - open file \n",
    "    - doing operation \n",
    "    - close a file\n",
    "- open()\n",
    "   - we use open() in python to open the file in read/write options \n",
    "   - to return a object we use in open function() along two arguments accepts the file name and mode.whether read or write\n",
    "   - syntax :: open(filename.mode)\n",
    "- mode are three types to open files\n",
    "    - read()--- 'r'----> to read a file \n",
    "       - file_variable.rad(size)\n",
    "    - write()---'w'--> to write a file\n",
    "       - file.variable.write(data)\n",
    "    - append()---'a'----> to append a file\n",
    "        - file.variable.append(data)\n",
    "- by default the file will open as 'r' mode\n",
    "- close\n",
    "    - it is used to close a file\n",
    "    - every time u have to close a file at the end of the operations otherwise the changes will not be applicable"
   ]
  },
  {
   "cell_type": "code",
   "execution_count": 1,
   "id": "e905da85",
   "metadata": {},
   "outputs": [
    {
     "name": "stdout",
     "output_type": "stream",
     "text": [
      "successfully open\n"
     ]
    }
   ],
   "source": [
    "f=open(\"data.txt\",'r')\n",
    "if f:\n",
    "    print(\"successfully open\")\n",
    "else:\n",
    "    print(\"failed\")"
   ]
  },
  {
   "cell_type": "code",
   "execution_count": 3,
   "id": "a454d643",
   "metadata": {},
   "outputs": [
    {
     "name": "stdout",
     "output_type": "stream",
     "text": [
      "good morning vasavi students\n"
     ]
    }
   ],
   "source": [
    "# read\n",
    "f=open(\"data.txt\",'r')\n",
    "print(f.read())\n",
    "f.close()"
   ]
  },
  {
   "cell_type": "code",
   "execution_count": 9,
   "id": "e94978dc",
   "metadata": {},
   "outputs": [
    {
     "name": "stdout",
     "output_type": "stream",
     "text": [
      "good morning vasavi students\n"
     ]
    }
   ],
   "source": [
    " # using keyword automatically \n",
    "with open(\"data.txt\") as f:\n",
    "    fr=f.read()\n",
    "print(fr)"
   ]
  },
  {
   "cell_type": "code",
   "execution_count": 5,
   "id": "86018081",
   "metadata": {},
   "outputs": [
    {
     "name": "stdout",
     "output_type": "stream",
     "text": [
      "good m\n"
     ]
    }
   ],
   "source": [
    "# read\n",
    "f=open(\"data.txt\",'r')\n",
    "print(f.read(6))\n",
    "f.close()"
   ]
  },
  {
   "cell_type": "code",
   "execution_count": 7,
   "id": "0e48476c",
   "metadata": {},
   "outputs": [
    {
     "name": "stdout",
     "output_type": "stream",
     "text": [
      "18\n"
     ]
    }
   ],
   "source": [
    "f=open(\"data1.txt\",'w')\n",
    "fr=f.write('python programming')\n",
    "print(fr)\n",
    "f.close()"
   ]
  },
  {
   "cell_type": "markdown",
   "id": "1c344076",
   "metadata": {},
   "source": [
    "### File handling methods\n",
    "- open()\n",
    "- read()\n",
    "- write()\n",
    "- close()\n",
    "- readline()\n",
    "- readlines()\n",
    "- seek()\n",
    "- tell()\n",
    "- tell()\n",
    "- types of modes:\n",
    "   - read()--'r'\n",
    "   - write()--'w'\n",
    "   - append()-- 'a'"
   ]
  },
  {
   "cell_type": "code",
   "execution_count": 10,
   "id": "fc5babb6",
   "metadata": {},
   "outputs": [],
   "source": [
    "f=open(\"data.txt\")\n",
    "info=f.read(6)"
   ]
  },
  {
   "cell_type": "code",
   "execution_count": 11,
   "id": "b841f054",
   "metadata": {},
   "outputs": [
    {
     "name": "stdout",
     "output_type": "stream",
     "text": [
      "good m\n"
     ]
    }
   ],
   "source": [
    "print(info)"
   ]
  },
  {
   "cell_type": "code",
   "execution_count": 12,
   "id": "335c111b",
   "metadata": {},
   "outputs": [
    {
     "name": "stdout",
     "output_type": "stream",
     "text": [
      "orning vasavi students\n"
     ]
    }
   ],
   "source": [
    "d=f.read()\n",
    "print(d)"
   ]
  },
  {
   "cell_type": "code",
   "execution_count": 13,
   "id": "276a3665",
   "metadata": {},
   "outputs": [],
   "source": [
    "f.close()"
   ]
  },
  {
   "cell_type": "code",
   "execution_count": 14,
   "id": "ecb98a57",
   "metadata": {},
   "outputs": [
    {
     "data": {
      "text/plain": [
       "20"
      ]
     },
     "execution_count": 14,
     "metadata": {},
     "output_type": "execute_result"
    }
   ],
   "source": [
    "# write mode()\n",
    "# it is used to write something in file\n",
    "# if file is not their directory,the file will be created and data will be written in that file\n",
    "fo=open(\"data.txt\",'w')\n",
    "fo.write('this is nithin reddy')"
   ]
  },
  {
   "cell_type": "code",
   "execution_count": 19,
   "id": "2628a501",
   "metadata": {},
   "outputs": [
    {
     "data": {
      "text/plain": [
       "31"
      ]
     },
     "execution_count": 19,
     "metadata": {},
     "output_type": "execute_result"
    }
   ],
   "source": [
    "f=open(\"data.txt\",'a')\n",
    "f.write('hello world i am here to help u')"
   ]
  },
  {
   "cell_type": "code",
   "execution_count": 20,
   "id": "6aad532d",
   "metadata": {},
   "outputs": [
    {
     "name": "stdout",
     "output_type": "stream",
     "text": [
      "<_io.TextIOWrapper name='data.txt' mode='a' encoding='cp1252'>\n"
     ]
    }
   ],
   "source": [
    "print(f)"
   ]
  },
  {
   "cell_type": "code",
   "execution_count": 28,
   "id": "091d9a37",
   "metadata": {},
   "outputs": [
    {
     "name": "stdout",
     "output_type": "stream",
     "text": [
      "this is nithin reddyhello world i am here to help uhello world i am here to help u\n",
      "[]\n"
     ]
    }
   ],
   "source": [
    "f=open(\"data.txt\",'r')\n",
    "s=f.readline()\n",
    "print(s)\n",
    "t=f.readlines()\n",
    "print(t)"
   ]
  },
  {
   "cell_type": "code",
   "execution_count": 40,
   "id": "e3227c16",
   "metadata": {},
   "outputs": [
    {
     "name": "stdout",
     "output_type": "stream",
     "text": [
      "no of lines in the file 1\n"
     ]
    }
   ],
   "source": [
    "with open(\"data.txt\",'r') as f:\n",
    "    no_of_lines=f.readlines()\n",
    "print(\"no of lines in the file\",len(no_of_lines))    "
   ]
  },
  {
   "cell_type": "code",
   "execution_count": 41,
   "id": "3d116826",
   "metadata": {},
   "outputs": [
    {
     "name": "stdout",
     "output_type": "stream",
     "text": [
      "no of lines in the file 1\n"
     ]
    }
   ],
   "source": [
    "with open(\"data.txt\",'r') as f:\n",
    "    no_of_lines=f.readlines()\n",
    "print(\"no of lines in the file\",len(no_of_lines))    "
   ]
  },
  {
   "cell_type": "code",
   "execution_count": 42,
   "id": "7449ba6e",
   "metadata": {},
   "outputs": [
    {
     "name": "stdout",
     "output_type": "stream",
     "text": [
      "number of words are 11\n"
     ]
    }
   ],
   "source": [
    "# no of words in the given file\n",
    "words=0\n",
    "for line in no_of_lines:\n",
    "    words_list=line.split()\n",
    "    words+=len(words_list)\n",
    "print(\"number of words are\",words)    "
   ]
  },
  {
   "cell_type": "code",
   "execution_count": null,
   "id": "055b0eb2",
   "metadata": {},
   "outputs": [],
   "source": []
  }
 ],
 "metadata": {
  "kernelspec": {
   "display_name": "Python 3 (ipykernel)",
   "language": "python",
   "name": "python3"
  },
  "language_info": {
   "codemirror_mode": {
    "name": "ipython",
    "version": 3
   },
   "file_extension": ".py",
   "mimetype": "text/x-python",
   "name": "python",
   "nbconvert_exporter": "python",
   "pygments_lexer": "ipython3",
   "version": "3.9.7"
  }
 },
 "nbformat": 4,
 "nbformat_minor": 5
}
