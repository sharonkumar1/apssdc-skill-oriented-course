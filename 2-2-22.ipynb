{
 "cells": [
  {
   "cell_type": "code",
   "execution_count": null,
   "id": "1d206ff0",
   "metadata": {},
   "outputs": [],
   "source": [
    "Input and Output Methods\n",
    "reading data or information from the user----input()\n",
    "Static input\n",
    "Dynamical input\n",
    "displaying the information or data to the user----print()\n",
    "a=20\n",
    "b=30\n",
    "print(a)\n",
    "print(b)\n",
    "20\n",
    "30\n",
    "a=input()\n",
    "a\n",
    "345\n",
    "'345'\n",
    "a=input(\"enter user value\")\n",
    "a\n",
    "enter user value567\n",
    "'567'\n",
    "a=float(input(\"enter user value\"))\n",
    "a\n",
    "enter user value345\n",
    "345.0\n",
    "a=input(\"enter value\")\n",
    "print(a)\n",
    "enter value567\n",
    "567\n",
    "a=20\n",
    "b=30\n",
    "c=50\n",
    "print(a,b,c)\n",
    "print(c)\n",
    "20 30 50\n",
    "50\n",
    "a=20\n",
    "b=30\n",
    "c=50\n",
    "print(a,b,c,sep=\",\")\n",
    "print(c)\n",
    "20,30,50\n",
    "50\n",
    "a=20\n",
    "b=30\n",
    "c=50\n",
    "print(a,b,c,sep=\",\",end=\"%\")\n",
    "print(c)\n",
    "20,30,50%50\n",
    "a=20\n",
    "b=30\n",
    "c=50\n",
    "print(a,b,c,sep=\",\",end=\"\\n\")\n",
    "print(c)\n",
    "20,30,50\n",
    "50\n",
    "help(print)\n",
    "Help on built-in function print in module builtins:\n",
    "\n",
    "print(...)\n",
    "    print(value, ..., sep=' ', end='\\n', file=sys.stdout, flush=False)\n",
    "    \n",
    "    Prints the values to a stream, or to sys.stdout by default.\n",
    "    Optional keyword arguments:\n",
    "    file:  a file-like object (stream); defaults to the current sys.stdout.\n",
    "    sep:   string inserted between values, default a space.\n",
    "    end:   string appended after the last value, default a newline.\n",
    "    flush: whether to forcibly flush the stream.\n",
    "\n",
    "# generate the three values from the user ,that values seperated with $ and end with %\n",
    "a=input(\"enter 1st value\")\n",
    "b=input(\"enter 2nd value\")\n",
    "c=input(\"enter 3rd value\")\n",
    "print(a,b,c,sep=\"$\",end=\"%\")\n",
    "enter 1st value23\n",
    "enter 2nd value67\n",
    "enter 3rd value56\n",
    "23$67$56%\n",
    "Operators\n",
    "Arithmatic operators(+,-,*,**,/,//,%)\n",
    "output for the normal division is quotient\n",
    "output for the int division or floor division is interger part of the quotient\n",
    "output for the modulo division is reminder\n",
    "Assignment operators(=)\n",
    "comparision operators(<,>,<=,>=,==)\n",
    "Logical operators(and,or,not)\n",
    "Bitwise operators(&,|,^)\n",
    "Identity operators(is (==),isnot(!=)\n",
    "Membership operators(in,notin)\n",
    "Arithmatic operators\n",
    "a=56\n",
    "b=32\n",
    "print(\"addition\",a+b)\n",
    "print(\"subtraction\",a-b)\n",
    "print(\"multiplication\",a*b)\n",
    "print(\"power\",a**b)\n",
    "print(\"division\",a/b)\n",
    "print(\"int division or floor division\",a//b)\n",
    "print(\"modulo divisiom\",a%b)\n",
    "addition 88\n",
    "subtraction 24\n",
    "multiplication 1792\n",
    "power 87501775260248338795649138639242377629452267851964481536\n",
    "division 1.75\n",
    "int division or floor division 1\n",
    "modulo divisiom 24\n",
    "Assignment operator\n",
    "it represented with =\n",
    "leftside value of the operator(=) is called as avariable\n",
    "rightside value of the variable(=) is called as value\n",
    "a=20\n",
    "b=59\n",
    "print(a)\n",
    "print(b)\n",
    "20\n",
    "59\n",
    "Comparation operator\n",
    "2>5\n",
    "False\n",
    "2<6\n",
    "True\n",
    "if 2>9 and 2<=6:\n",
    "    print(\"print true or false\")\n",
    "else:\n",
    "    print(\"sdyhk\")\n",
    "sdyhk\n",
    "2>=7\n",
    "False\n",
    "3<=5\n",
    "True\n",
    "Logical operators\n",
    "and,or,not\n",
    "if all the inputs are true the output is true(and).\n",
    "if any of the input is true the output is true(or).\n",
    "opposite operation for the given one.\n",
    "2<5 and 3>6\n",
    "False\n",
    "2>5 and 3<6\n",
    "False\n",
    "3<9 and 4>0\n",
    "True\n",
    "4<8 or 5>2\n",
    "True\n",
    "5>9 or 8<3\n",
    "False\n",
    "a=100\n",
    "not a\n",
    "False\n",
    "Bitwise operator\n",
    "2 & 3\n",
    "# 2- 0 0 1 0\n",
    "# 3- 0 0 1 1\n",
    "# --------------\n",
    "#  - 0 0 1 0     \n",
    "2\n",
    "3|4\n",
    "7\n",
    "2^3\n",
    "1\n",
    "2<<3\n",
    "16\n",
    "2>>3\n",
    "0\n",
    "Identity operator\n",
    "a is 100 and a is not 100 \n",
    "<>:1: SyntaxWarning: \"is\" with a literal. Did you mean \"==\"?\n",
    "<>:1: SyntaxWarning: \"is not\" with a literal. Did you mean \"!=\"?\n",
    "<>:1: SyntaxWarning: \"is\" with a literal. Did you mean \"==\"?\n",
    "<>:1: SyntaxWarning: \"is not\" with a literal. Did you mean \"!=\"?\n",
    "<ipython-input-35-f0aacb0ed310>:1: SyntaxWarning: \"is\" with a literal. Did you mean \"==\"?\n",
    "  a is 100 and a is not 100\n",
    "<ipython-input-35-f0aacb0ed310>:1: SyntaxWarning: \"is not\" with a literal. Did you mean \"!=\"?\n",
    "  a is 100 and a is not 100\n",
    "False\n",
    "a==100 and a!=100\n",
    "False\n",
    "Membership operator\n",
    "s=[1,2,4,6,8,9]\n",
    "4 in s\n",
    "True\n",
    "10 not in s\n",
    "True\n",
    "2 not in s\n",
    "False\n",
    "a=20\n",
    "a=a+1\n",
    "a\n",
    "21\n",
    "a=45\n",
    "a+=1 ---->a=a+1\n",
    "a-=1 ---->a=a-1\n",
    "a*=1 ----->a=a*1\n",
    "a/=1 ----->a=a/1\n",
    "a\n",
    "46\n",
    "Flow control\n",
    "Conditional statements(if,else,elif,nestedif)\n",
    "Loops(for,while)\n",
    "Break,Return\n",
    "# c-language\n",
    "if(condition){\n",
    "    print(a)\n",
    "}\n",
    "Conditional statements\n",
    "# if \n",
    "if (condition):\n",
    "    statement1\n",
    "    statement2\n",
    "    statement3\n",
    "    ---------\n",
    "    statementn\n",
    "#if-else\n",
    "if (condition):\n",
    "    statement1\n",
    "    statement2\n",
    "    statement3\n",
    "    ---------\n",
    "    statementn\n",
    "else:\n",
    "    statement1\n",
    "    statement2\n",
    "    ---------\n",
    "    statementn\n",
    "if 2>3:\n",
    "    print(\"True\")\n",
    "    print(\"False\")\n",
    "if 2>3:\n",
    "    print(\"True\")\n",
    "else:\n",
    "    print(\"False\")\n",
    "False\n",
    "# given number is even or odd\n",
    "n=int(input(\"enter the number\"))\n",
    "if(n%2==0):\n",
    "    print(\"even number\")\n",
    "else:\n",
    "    print(\"odd number\")\n",
    "enter the number34\n",
    "even number\n",
    "#given number is zero or positive or negative\n",
    "n=int(input(\"enter value\"))\n",
    "if(n==0):\n",
    "    print(\"zero\")\n",
    "elif(n>0):\n",
    "    print(\"positive\")\n",
    "else:\n",
    "    print(\"negative\")\n",
    "enter value34\n",
    "positive\n",
    "# number is divisible by 2 but not divisible by 10\n",
    "a=23\n",
    "if a%2 is 0 and a%10 is not 0:\n",
    "    print(\"valid number\")\n",
    "else:\n",
    "    print(\"invalid number\")\n",
    "invalid number\n",
    "<>:3: SyntaxWarning: \"is\" with a literal. Did you mean \"==\"?\n",
    "<>:3: SyntaxWarning: \"is not\" with a literal. Did you mean \"!=\"?\n",
    "<>:3: SyntaxWarning: \"is\" with a literal. Did you mean \"==\"?\n",
    "<>:3: SyntaxWarning: \"is not\" with a literal. Did you mean \"!=\"?\n",
    "<ipython-input-53-fa4ac4ee8789>:3: SyntaxWarning: \"is\" with a literal. Did you mean \"==\"?\n",
    "  if a%2 is 0 and a%10 is not 0:\n",
    "<ipython-input-53-fa4ac4ee8789>:3: SyntaxWarning: \"is not\" with a literal. Did you mean \"!=\"?\n",
    "  if a%2 is 0 and a%10 is not 0:\n",
    "a=23\n",
    "if a%2==0 and a%10!=0:\n",
    "    print(\"valid number\")\n",
    "else:\n",
    "    print(\"invalid number\")\n",
    "invalid number\n",
    "Range\n",
    "syntax for the range is range(start,endvalue,step value)\n",
    "starting value is inclusive and end value is exclusive\n",
    "range(start,end,step)\n",
    "range(10,20,1)\n",
    "# 10,11,12,13,14,15,16,17,18,19\n",
    "range(20,30,2)\n",
    "# 20,22,24,26,28\n",
    "range(20,41,5)\n",
    "#20,25,30,35,40\n",
    "range(50)\n",
    "# consider value\n",
    "as start range(20,30)\n",
    "# comsider start value and end value\n",
    "# reverse print\n",
    "range(10,1,-1)\n",
    "list(range(10,20,1))\n",
    "[10, 11, 12, 13, 14, 15, 16, 17, 18, 19]\n",
    "list(range(20,30,2))\n",
    "[20, 22, 24, 26, 28]\n",
    "list(range(10))\n",
    "[0, 1, 2, 3, 4, 5, 6, 7, 8, 9]\n",
    "list(range(20,30))\n",
    "[20, 21, 22, 23, 24, 25, 26, 27, 28, 29]\n",
    "list(range(10,1,-1))\n",
    "[10, 9, 8, 7, 6, 5, 4, 3, 2]\n",
    " "
   ]
  },
  {
   "cell_type": "markdown",
   "id": "00cd4056",
   "metadata": {},
   "source": [
    "### Loops \n",
    "- for,while\n",
    "- for loop::A for loop in python is a control flow statement that is used to \n",
    "repeatedly execute a group of statements as long as condition is satisfied\n",
    "such a type of statement is also known as an iterative statement\n",
    "therefore,\n",
    "A for loop is an iterative statement"
   ]
  },
  {
   "cell_type": "code",
   "execution_count": null,
   "id": "a0be3b33",
   "metadata": {},
   "outputs": [],
   "source": [
    "# for loop syntax:\n",
    "for iter in iterable:# range predefined function in the position of iterable\n",
    "    stmt1\n",
    "    stmt2\n",
    "    -----\n",
    "    stmt n"
   ]
  },
  {
   "cell_type": "code",
   "execution_count": 1,
   "id": "3d7ebdf4",
   "metadata": {},
   "outputs": [
    {
     "name": "stdout",
     "output_type": "stream",
     "text": [
      "0\n",
      "1\n",
      "2\n",
      "3\n",
      "4\n"
     ]
    }
   ],
   "source": [
    "for i in range(5):\n",
    "    print(i)"
   ]
  },
  {
   "cell_type": "code",
   "execution_count": 3,
   "id": "2b3bec19",
   "metadata": {},
   "outputs": [
    {
     "name": "stdout",
     "output_type": "stream",
     "text": [
      "0 1 2 3 4 "
     ]
    }
   ],
   "source": [
    "for i in range(5):\n",
    "    print(i,end=\" \")"
   ]
  },
  {
   "cell_type": "code",
   "execution_count": 5,
   "id": "0dd338c3",
   "metadata": {},
   "outputs": [
    {
     "name": "stdout",
     "output_type": "stream",
     "text": [
      "0 2 4 6 8 10 "
     ]
    }
   ],
   "source": [
    "for i in range(0,11,2):\n",
    "    print(i,end=\" \")"
   ]
  },
  {
   "cell_type": "code",
   "execution_count": 8,
   "id": "39e38e65",
   "metadata": {},
   "outputs": [
    {
     "name": "stdout",
     "output_type": "stream",
     "text": [
      "0 2 4 6 8 10 12 14 16 18 20 22 24 26 28 30 32 34 36 38 40 42 44 46 48 50 52 54 56 58 60 62 64 66 68 70 72 74 76 78 80 82 84 86 88 90 92 94 96 98 100 \n",
      " even number is  51\n"
     ]
    }
   ],
   "source": [
    "# print the even numbers in the range of 0 to 100 print the count\n",
    "c=0\n",
    "for i in range(0,101,2):\n",
    "    c=c+1\n",
    "    print(i,end=\" \")\n",
    "print(\"\\n even number is \",c)    "
   ]
  },
  {
   "cell_type": "code",
   "execution_count": 9,
   "id": "a41f04a5",
   "metadata": {},
   "outputs": [
    {
     "name": "stdout",
     "output_type": "stream",
     "text": [
      "0 1 2 3 4 5 6 7 8 9 10 11 12 13 14 15 16 17 18 19 20 21 22 23 24 25 26 27 28 29 30 31 32 33 34 35 36 37 38 39 40 41 42 43 44 45 46 47 48 49 50 51 52 53 54 55 56 57 58 59 60 61 62 63 64 65 66 67 68 69 70 71 72 73 74 75 76 77 78 79 80 81 82 83 84 85 86 87 88 89 90 91 92 93 94 95 96 97 98 99 100 \n",
      " even number is  51\n"
     ]
    }
   ],
   "source": [
    "c=0\n",
    "for i in range(0,101):\n",
    "    if i%2==0:\n",
    "        c=c+1\n",
    "    print(i,end=\" \")\n",
    "print(\"\\n even number is \",c)    "
   ]
  },
  {
   "cell_type": "code",
   "execution_count": 15,
   "id": "dd556671",
   "metadata": {},
   "outputs": [
    {
     "name": "stdout",
     "output_type": "stream",
     "text": [
      "2000\n",
      "2020\n",
      "2000 2004 2008 2012 2016 2020 \n",
      " years count: 6\n"
     ]
    }
   ],
   "source": [
    "# print leap years from the range of 2000 to 2020 years count\n",
    "x=int(input())\n",
    "y=int(input())\n",
    "c=0\n",
    "for i in range(x,y+1):\n",
    "    if i%400==0 and i%100!=0 or i%4==0:\n",
    "        c=c+1\n",
    "        print(i,end=\" \")\n",
    "print(\"\\n years count:\",c)"
   ]
  },
  {
   "cell_type": "code",
   "execution_count": 19,
   "id": "24aaff6a",
   "metadata": {},
   "outputs": [
    {
     "name": "stdout",
     "output_type": "stream",
     "text": [
      "6\n",
      "6 * 1 = 6\n",
      "6 * 2 = 12\n",
      "6 * 3 = 18\n",
      "6 * 4 = 24\n",
      "6 * 5 = 30\n",
      "6 * 6 = 36\n",
      "6 * 7 = 42\n",
      "6 * 8 = 48\n",
      "6 * 9 = 54\n",
      "6 * 10 = 60\n"
     ]
    }
   ],
   "source": [
    "#print tables\n",
    "n=int(input())\n",
    "for i in range(1,11):\n",
    "    print(n,\"*\",i,\"=\",n*i)\n",
    "    "
   ]
  },
  {
   "cell_type": "code",
   "execution_count": 3,
   "id": "cdfb0296",
   "metadata": {},
   "outputs": [
    {
     "name": "stdout",
     "output_type": "stream",
     "text": [
      "9\n",
      "1 3 9 "
     ]
    }
   ],
   "source": [
    "a=int(input())\n",
    "for i in range(1,a+1):\n",
    "    if a%i==0:\n",
    "        print(i,end=\" \")"
   ]
  },
  {
   "cell_type": "code",
   "execution_count": 6,
   "id": "e984e701",
   "metadata": {},
   "outputs": [
    {
     "name": "stdout",
     "output_type": "stream",
     "text": [
      "ABC\n",
      "198\n"
     ]
    }
   ],
   "source": [
    "# i/p=abc\n",
    "# 97+98+99=294\n",
    "#o/p 294\n",
    "a=input()\n",
    "s=0\n",
    "for i in a:\n",
    "    s=s+ord(i)\n",
    "print(s)"
   ]
  },
  {
   "cell_type": "code",
   "execution_count": 12,
   "id": "8627a6e8",
   "metadata": {},
   "outputs": [
    {
     "name": "stdout",
     "output_type": "stream",
     "text": [
      "1 3 5 7 9 11 13 15 17 19 21 23 25 27 29 31 33 35 37 39 41 43 45 47 49 51 53 55 57 59 61 63 65 67 69 71 73 75 77 79 81 83 85 87 89 91 93 95 97 99 \n",
      " the prime number count is 50\n"
     ]
    }
   ],
   "source": [
    "c=0\n",
    "for i in range(1,101):\n",
    "    if i%i==0 and i%1==0 and i%2!=0:\n",
    "        c=c+1\n",
    "        print(i,end=\" \")\n",
    "print(\"\\n the prime number count is\",c)        "
   ]
  },
  {
   "cell_type": "code",
   "execution_count": 15,
   "id": "1be0c2fa",
   "metadata": {},
   "outputs": [
    {
     "name": "stdout",
     "output_type": "stream",
     "text": [
      "enter n value6\n",
      "it is not a prime number\n"
     ]
    }
   ],
   "source": [
    "# given number is prime or not\n",
    "n=int(input(\"enter n value\"))\n",
    "for i in range(1,n+1):\n",
    "    if n%i==0:\n",
    "        c=c+1\n",
    "if c==2:\n",
    "    print(\"it is a prime number\")\n",
    "else:\n",
    "    print(\"it is not a prime number\")"
   ]
  },
  {
   "cell_type": "code",
   "execution_count": 27,
   "id": "3a1fd136",
   "metadata": {},
   "outputs": [
    {
     "name": "stdout",
     "output_type": "stream",
     "text": [
      "20\n",
      "0 2 4 6 8 10 12 14 16 18 20 \n",
      "\n",
      "1 3 5 7 9 11 13 15 17 19 "
     ]
    }
   ],
   "source": [
    "# seperate even and odd numbers\n",
    "n=int(input())\n",
    "for i in range(0,n+1):\n",
    "    if i%2==0:\n",
    "        print(i,end=\" \")\n",
    "print(\"\\n\")\n",
    "for i in range(0,n+1):        \n",
    "    if i%2!=0:\n",
    "        print(i,end=\" \")"
   ]
  },
  {
   "cell_type": "code",
   "execution_count": null,
   "id": "2ff530e6",
   "metadata": {},
   "outputs": [],
   "source": []
  }
 ],
 "metadata": {
  "kernelspec": {
   "display_name": "Python 3 (ipykernel)",
   "language": "python",
   "name": "python3"
  },
  "language_info": {
   "codemirror_mode": {
    "name": "ipython",
    "version": 3
   },
   "file_extension": ".py",
   "mimetype": "text/x-python",
   "name": "python",
   "nbconvert_exporter": "python",
   "pygments_lexer": "ipython3",
   "version": "3.9.7"
  }
 },
 "nbformat": 4,
 "nbformat_minor": 5
}
