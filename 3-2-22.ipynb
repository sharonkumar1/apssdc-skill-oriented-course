{
 "cells": [
  {
   "cell_type": "markdown",
   "id": "544a6277",
   "metadata": {},
   "source": [
    "### while\n",
    "- it executes block or set of instructions until the condition get false\n",
    "- while we dont the range\n",
    "- execute faster then the for loop \n",
    "- user incrementation"
   ]
  },
  {
   "cell_type": "code",
   "execution_count": null,
   "id": "90f07832",
   "metadata": {},
   "outputs": [],
   "source": [
    "#while syntax\n",
    "initilization\n",
    "while condition:\n",
    "    stmts\n",
    "    inc/decrement"
   ]
  },
  {
   "cell_type": "code",
   "execution_count": 1,
   "id": "8ed01b8b",
   "metadata": {},
   "outputs": [
    {
     "name": "stdout",
     "output_type": "stream",
     "text": [
      "vasavi clg\n",
      "vasavi clg\n",
      "vasavi clg\n",
      "vasavi clg\n",
      "vasavi clg\n"
     ]
    }
   ],
   "source": [
    "n=1\n",
    "while n<=5:\n",
    "    print(\"vasavi clg\")\n",
    "    n=n+1"
   ]
  },
  {
   "cell_type": "code",
   "execution_count": 3,
   "id": "9511c2bc",
   "metadata": {},
   "outputs": [
    {
     "name": "stdout",
     "output_type": "stream",
     "text": [
      "10 9 8 7 6 5 4 3 2 1 0 "
     ]
    }
   ],
   "source": [
    "i=10\n",
    "while i>=0:\n",
    "    print(i,end=\" \")\n",
    "    i=i-1"
   ]
  },
  {
   "cell_type": "code",
   "execution_count": 4,
   "id": "db62ad4c",
   "metadata": {},
   "outputs": [
    {
     "name": "stdout",
     "output_type": "stream",
     "text": [
      "12589632\n",
      "\n",
      " digit count 8\n"
     ]
    }
   ],
   "source": [
    "#i/p 1234\n",
    "#o/p digit count:4\n",
    "s=int(input())\n",
    "c=0\n",
    "while s!=0:\n",
    "    c=c+1\n",
    "    s=s//10\n",
    "print(\"\\n digit count\",c)    \n",
    "    "
   ]
  },
  {
   "cell_type": "code",
   "execution_count": 11,
   "id": "9c43aa73",
   "metadata": {},
   "outputs": [
    {
     "name": "stdout",
     "output_type": "stream",
     "text": [
      "121\n",
      "palindrom\n"
     ]
    }
   ],
   "source": [
    "#check the given number is palindrom or not\n",
    "n=int(input())\n",
    "temp=n\n",
    "rev=0\n",
    "while n!=0:\n",
    "    r=n%10\n",
    "    rev=rev*10+r\n",
    "    n=n//10    \n",
    "if temp==rev:\n",
    "    print(\"palindrom\")\n",
    "else:\n",
    "    print(\"nat a palindrom\")"
   ]
  },
  {
   "cell_type": "code",
   "execution_count": null,
   "id": "62c9c577",
   "metadata": {},
   "outputs": [],
   "source": [
    "#syntax: nested for loop\n",
    "for iter in range(start,end,step):\n",
    "    stmts n\n",
    "    for iter in range(start,end,step):\n",
    "        stmts"
   ]
  },
  {
   "cell_type": "code",
   "execution_count": 19,
   "id": "a880c33d",
   "metadata": {},
   "outputs": [
    {
     "name": "stdout",
     "output_type": "stream",
     "text": [
      "enter rows for matrix:5\n",
      "enter columns for matrix:6\n",
      "$ $ $ $ $ $ \n",
      "$ $ $ $ $ $ \n",
      "$ $ $ $ $ $ \n",
      "$ $ $ $ $ $ \n",
      "$ $ $ $ $ $ \n"
     ]
    }
   ],
   "source": [
    "# matrix formation\n",
    "#- rows,columns\n",
    "#- 2dimensions\n",
    "#    1 2 3\n",
    " #   1 2 3\n",
    "n=int(input(\"enter rows for matrix:\"))\n",
    "m=int(input(\"enter columns for matrix:\"))\n",
    "for i in range(1,n+1):\n",
    "    for j in range(1,m+1):\n",
    "        print(\"$\",end=\" \")\n",
    "    print()    "
   ]
  },
  {
   "cell_type": "code",
   "execution_count": 24,
   "id": "6db2ac6c",
   "metadata": {},
   "outputs": [
    {
     "name": "stdout",
     "output_type": "stream",
     "text": [
      "5\n",
      "5\n",
      "* \n",
      "* * \n",
      "* * * \n",
      "* * * * \n",
      "* * * * * \n"
     ]
    }
   ],
   "source": [
    "n=int(input())\n",
    "m=int(input())\n",
    "for i in range(1,n+1):\n",
    "    for j in range(1,i+1):\n",
    "        print(\"*\",end=\" \")\n",
    "    print( )        "
   ]
  },
  {
   "cell_type": "code",
   "execution_count": 30,
   "id": "69e8b3be",
   "metadata": {},
   "outputs": [
    {
     "name": "stdout",
     "output_type": "stream",
     "text": [
      "5\n",
      "5\n",
      "* * * * * \n",
      "* * * * \n",
      "* * * \n",
      "* * \n",
      "* \n",
      "* \n",
      "* * \n",
      "* * * \n",
      "* * * * \n",
      "* * * * * \n"
     ]
    }
   ],
   "source": [
    "n=int(input())\n",
    "m=int(input())\n",
    "for i in range(n,0,-1):\n",
    "    for j in range(1,i+1):\n",
    "        print(\"*\",end=\" \")\n",
    "    print( )\n",
    "for i in range(1,n+1):\n",
    "    for j in range(1,i+1):\n",
    "        print(\"*\",end=\" \")\n",
    "    print( )            "
   ]
  },
  {
   "cell_type": "code",
   "execution_count": 41,
   "id": "89a26434",
   "metadata": {},
   "outputs": [
    {
     "name": "stdout",
     "output_type": "stream",
     "text": [
      "10\n",
      "100\n",
      "11 13 17 19 23 29 31 37 41 43 47 53 59 61 67 71 73 79 83 89 97 "
     ]
    }
   ],
   "source": [
    "st=int(input())\n",
    "et=int(input())\n",
    "for num in range(st,et+1):\n",
    "    c=0\n",
    "    for var in range(1,num+1):\n",
    "        if num%var==0:\n",
    "            c=c+1\n",
    "    if c==2:\n",
    "        print(num,end=\" \")\n",
    "        "
   ]
  },
  {
   "cell_type": "code",
   "execution_count": 40,
   "id": "19d25dd9",
   "metadata": {},
   "outputs": [
    {
     "name": "stdout",
     "output_type": "stream",
     "text": [
      "1 * 1 = 1\n",
      "1 * 2 = 2\n",
      "1 * 3 = 3\n",
      "1 * 4 = 4\n",
      "1 * 5 = 5\n",
      "1 * 6 = 6\n",
      "1 * 7 = 7\n",
      "1 * 8 = 8\n",
      "1 * 9 = 9\n",
      "1 * 10 = 10\n",
      "\n",
      "2 * 1 = 2\n",
      "2 * 2 = 4\n",
      "2 * 3 = 6\n",
      "2 * 4 = 8\n",
      "2 * 5 = 10\n",
      "2 * 6 = 12\n",
      "2 * 7 = 14\n",
      "2 * 8 = 16\n",
      "2 * 9 = 18\n",
      "2 * 10 = 20\n",
      "\n",
      "3 * 1 = 3\n",
      "3 * 2 = 6\n",
      "3 * 3 = 9\n",
      "3 * 4 = 12\n",
      "3 * 5 = 15\n",
      "3 * 6 = 18\n",
      "3 * 7 = 21\n",
      "3 * 8 = 24\n",
      "3 * 9 = 27\n",
      "3 * 10 = 30\n",
      "\n",
      "4 * 1 = 4\n",
      "4 * 2 = 8\n",
      "4 * 3 = 12\n",
      "4 * 4 = 16\n",
      "4 * 5 = 20\n",
      "4 * 6 = 24\n",
      "4 * 7 = 28\n",
      "4 * 8 = 32\n",
      "4 * 9 = 36\n",
      "4 * 10 = 40\n",
      "\n",
      "5 * 1 = 5\n",
      "5 * 2 = 10\n",
      "5 * 3 = 15\n",
      "5 * 4 = 20\n",
      "5 * 5 = 25\n",
      "5 * 6 = 30\n",
      "5 * 7 = 35\n",
      "5 * 8 = 40\n",
      "5 * 9 = 45\n",
      "5 * 10 = 50\n",
      "\n",
      "6 * 1 = 6\n",
      "6 * 2 = 12\n",
      "6 * 3 = 18\n",
      "6 * 4 = 24\n",
      "6 * 5 = 30\n",
      "6 * 6 = 36\n",
      "6 * 7 = 42\n",
      "6 * 8 = 48\n",
      "6 * 9 = 54\n",
      "6 * 10 = 60\n",
      "\n",
      "7 * 1 = 7\n",
      "7 * 2 = 14\n",
      "7 * 3 = 21\n",
      "7 * 4 = 28\n",
      "7 * 5 = 35\n",
      "7 * 6 = 42\n",
      "7 * 7 = 49\n",
      "7 * 8 = 56\n",
      "7 * 9 = 63\n",
      "7 * 10 = 70\n",
      "\n",
      "8 * 1 = 8\n",
      "8 * 2 = 16\n",
      "8 * 3 = 24\n",
      "8 * 4 = 32\n",
      "8 * 5 = 40\n",
      "8 * 6 = 48\n",
      "8 * 7 = 56\n",
      "8 * 8 = 64\n",
      "8 * 9 = 72\n",
      "8 * 10 = 80\n",
      "\n",
      "9 * 1 = 9\n",
      "9 * 2 = 18\n",
      "9 * 3 = 27\n",
      "9 * 4 = 36\n",
      "9 * 5 = 45\n",
      "9 * 6 = 54\n",
      "9 * 7 = 63\n",
      "9 * 8 = 72\n",
      "9 * 9 = 81\n",
      "9 * 10 = 90\n",
      "\n",
      "10 * 1 = 10\n",
      "10 * 2 = 20\n",
      "10 * 3 = 30\n",
      "10 * 4 = 40\n",
      "10 * 5 = 50\n",
      "10 * 6 = 60\n",
      "10 * 7 = 70\n",
      "10 * 8 = 80\n",
      "10 * 9 = 90\n",
      "10 * 10 = 100\n",
      "\n"
     ]
    }
   ],
   "source": [
    "for n in range(1,11):\n",
    "    for i in range(1,11):\n",
    "        print(n,\"*\",i,\"=\",n*i)\n",
    "    print()    "
   ]
  },
  {
   "cell_type": "code",
   "execution_count": null,
   "id": "de690da4",
   "metadata": {},
   "outputs": [],
   "source": [
    "# nested while\n",
    "- loop inside another loop"
   ]
  },
  {
   "cell_type": "code",
   "execution_count": null,
   "id": "67d65399",
   "metadata": {},
   "outputs": [],
   "source": [
    "# syntax\n",
    "initilization\n",
    "while condition:\n",
    "    stmts n\n",
    "    incr/dcr\n",
    "    while comdition:\n",
    "        stmts n\n",
    "        incr/dcr\n",
    "        \n"
   ]
  },
  {
   "cell_type": "code",
   "execution_count": 45,
   "id": "b1369a4d",
   "metadata": {},
   "outputs": [
    {
     "name": "stdout",
     "output_type": "stream",
     "text": [
      "1 * 1 = 1\n",
      "1 * 2 = 2\n",
      "1 * 3 = 3\n",
      "1 * 4 = 4\n",
      "1 * 5 = 5\n",
      "1 * 6 = 6\n",
      "1 * 7 = 7\n",
      "1 * 8 = 8\n",
      "1 * 9 = 9\n",
      "1 * 10 = 10\n",
      "\n",
      "2 * 1 = 2\n",
      "2 * 2 = 4\n",
      "2 * 3 = 6\n",
      "2 * 4 = 8\n",
      "2 * 5 = 10\n",
      "2 * 6 = 12\n",
      "2 * 7 = 14\n",
      "2 * 8 = 16\n",
      "2 * 9 = 18\n",
      "2 * 10 = 20\n",
      "\n",
      "3 * 1 = 3\n",
      "3 * 2 = 6\n",
      "3 * 3 = 9\n",
      "3 * 4 = 12\n",
      "3 * 5 = 15\n",
      "3 * 6 = 18\n",
      "3 * 7 = 21\n",
      "3 * 8 = 24\n",
      "3 * 9 = 27\n",
      "3 * 10 = 30\n",
      "\n",
      "4 * 1 = 4\n",
      "4 * 2 = 8\n",
      "4 * 3 = 12\n",
      "4 * 4 = 16\n",
      "4 * 5 = 20\n",
      "4 * 6 = 24\n",
      "4 * 7 = 28\n",
      "4 * 8 = 32\n",
      "4 * 9 = 36\n",
      "4 * 10 = 40\n",
      "\n",
      "5 * 1 = 5\n",
      "5 * 2 = 10\n",
      "5 * 3 = 15\n",
      "5 * 4 = 20\n",
      "5 * 5 = 25\n",
      "5 * 6 = 30\n",
      "5 * 7 = 35\n",
      "5 * 8 = 40\n",
      "5 * 9 = 45\n",
      "5 * 10 = 50\n",
      "\n",
      "6 * 1 = 6\n",
      "6 * 2 = 12\n",
      "6 * 3 = 18\n",
      "6 * 4 = 24\n",
      "6 * 5 = 30\n",
      "6 * 6 = 36\n",
      "6 * 7 = 42\n",
      "6 * 8 = 48\n",
      "6 * 9 = 54\n",
      "6 * 10 = 60\n",
      "\n",
      "7 * 1 = 7\n",
      "7 * 2 = 14\n",
      "7 * 3 = 21\n",
      "7 * 4 = 28\n",
      "7 * 5 = 35\n",
      "7 * 6 = 42\n",
      "7 * 7 = 49\n",
      "7 * 8 = 56\n",
      "7 * 9 = 63\n",
      "7 * 10 = 70\n",
      "\n",
      "8 * 1 = 8\n",
      "8 * 2 = 16\n",
      "8 * 3 = 24\n",
      "8 * 4 = 32\n",
      "8 * 5 = 40\n",
      "8 * 6 = 48\n",
      "8 * 7 = 56\n",
      "8 * 8 = 64\n",
      "8 * 9 = 72\n",
      "8 * 10 = 80\n",
      "\n",
      "9 * 1 = 9\n",
      "9 * 2 = 18\n",
      "9 * 3 = 27\n",
      "9 * 4 = 36\n",
      "9 * 5 = 45\n",
      "9 * 6 = 54\n",
      "9 * 7 = 63\n",
      "9 * 8 = 72\n",
      "9 * 9 = 81\n",
      "9 * 10 = 90\n",
      "\n",
      "10 * 1 = 10\n",
      "10 * 2 = 20\n",
      "10 * 3 = 30\n",
      "10 * 4 = 40\n",
      "10 * 5 = 50\n",
      "10 * 6 = 60\n",
      "10 * 7 = 70\n",
      "10 * 8 = 80\n",
      "10 * 9 = 90\n",
      "10 * 10 = 100\n",
      "\n"
     ]
    }
   ],
   "source": [
    "i=1\n",
    "while i<=10:\n",
    "    j=1\n",
    "    while j<=10:\n",
    "        print(i,\"*\",j,\"=\",i*j)\n",
    "        j=j+1\n",
    "    print()\n",
    "    i=i+1    "
   ]
  },
  {
   "cell_type": "markdown",
   "id": "cfcf1e25",
   "metadata": {},
   "source": [
    "### jump statements\n",
    "- we can called as unconditional jumps\n",
    "    - Brerak\n",
    "    - Continue\n",
    "    - Pass"
   ]
  },
  {
   "cell_type": "markdown",
   "id": "65130370",
   "metadata": {},
   "source": [
    "### Break \n",
    "- terminates the current loop statements\n",
    "- Break is a keyword"
   ]
  },
  {
   "cell_type": "code",
   "execution_count": 46,
   "id": "e34de5d2",
   "metadata": {},
   "outputs": [
    {
     "name": "stdout",
     "output_type": "stream",
     "text": [
      "p\n",
      "y\n",
      "t\n"
     ]
    }
   ],
   "source": [
    "for i in \"python\":\n",
    "    if i=='h':\n",
    "        break\n",
    "    print(i)    "
   ]
  },
  {
   "cell_type": "code",
   "execution_count": 56,
   "id": "5714cf52",
   "metadata": {},
   "outputs": [
    {
     "name": "stdout",
     "output_type": "stream",
     "text": [
      "10\n",
      "11\n"
     ]
    }
   ],
   "source": [
    "n=int(1)\n",
    "while i<=10:\n",
    "    if i==6:\n",
    "        break\n",
    "    i=i+1\n",
    "    print(i)\n",
    "    \n",
    "    "
   ]
  },
  {
   "cell_type": "markdown",
   "id": "b16d82cf",
   "metadata": {},
   "source": [
    "### Continue\n",
    "- skip onlu current iteration and continue the next iteration \n",
    "- continue is also a keyword"
   ]
  },
  {
   "cell_type": "code",
   "execution_count": 50,
   "id": "e86c7066",
   "metadata": {},
   "outputs": [
    {
     "name": "stdout",
     "output_type": "stream",
     "text": [
      "0\n",
      "1\n",
      "2\n",
      "3\n",
      "4\n",
      "5\n",
      "7\n",
      "8\n",
      "9\n"
     ]
    }
   ],
   "source": [
    "for i in range(10):\n",
    "    if i==6:\n",
    "        continue\n",
    "        print(\"hai\")\n",
    "    print(i)    "
   ]
  },
  {
   "cell_type": "code",
   "execution_count": 57,
   "id": "298ea2cd",
   "metadata": {},
   "outputs": [
    {
     "name": "stdout",
     "output_type": "stream",
     "text": [
      "1 3 5 7 9 "
     ]
    }
   ],
   "source": [
    "#print odd number using even number condition using continue statement\n",
    "for i in range(1,10):\n",
    "    if i%2==0:\n",
    "        continue\n",
    "        print(i,end=\" \")\n",
    "    else:\n",
    "        print(i,end=\" \")"
   ]
  },
  {
   "cell_type": "markdown",
   "id": "9b61e7db",
   "metadata": {},
   "source": [
    "### Pass\n",
    "- it is a keyword \n",
    "- when we need the condition scientifically correct need to change another operation\n",
    "- it is a null operation\n",
    "- pass statement we use to create empty class also "
   ]
  },
  {
   "cell_type": "code",
   "execution_count": 59,
   "id": "cef658b5",
   "metadata": {},
   "outputs": [
    {
     "name": "stdout",
     "output_type": "stream",
     "text": [
      "p\n",
      "y\n",
      "t\n",
      "pass executed\n",
      "h\n",
      "o\n",
      "n\n"
     ]
    }
   ],
   "source": [
    "s=\"python\"\n",
    "for i in s:\n",
    "    if i=='h':\n",
    "        pass\n",
    "        print(\"pass executed\")\n",
    "    print(i)    "
   ]
  },
  {
   "cell_type": "markdown",
   "id": "90103296",
   "metadata": {},
   "source": [
    "### Strings\n",
    "- string is a group of character\n",
    "- string is a derived datatype and immutable\n",
    "- all strings return a new value"
   ]
  },
  {
   "cell_type": "code",
   "execution_count": 60,
   "id": "f6ed611b",
   "metadata": {},
   "outputs": [
    {
     "name": "stdout",
     "output_type": "stream",
     "text": [
      "<class 'str'>\n"
     ]
    }
   ],
   "source": [
    "a=\"srivasavicollege\"\n",
    "print(type(a))"
   ]
  },
  {
   "cell_type": "code",
   "execution_count": 61,
   "id": "34995c52",
   "metadata": {},
   "outputs": [
    {
     "data": {
      "text/plain": [
       "18"
      ]
     },
     "execution_count": 61,
     "metadata": {},
     "output_type": "execute_result"
    }
   ],
   "source": [
    "len(a)"
   ]
  },
  {
   "cell_type": "code",
   "execution_count": 72,
   "id": "c90d8d69",
   "metadata": {},
   "outputs": [
    {
     "name": "stdout",
     "output_type": "stream",
     "text": [
      " \n",
      "v\n",
      "[' ', ' ', 'a', 'a', 'c', 'e', 'e', 'g', 'i', 'i', 'l', 'l', 'o', 'r', 's', 's', 'v', 'v']\n"
     ]
    }
   ],
   "source": [
    "print(min(a))\n",
    "print(max(a))\n",
    "print(sorted(a))\n",
    "#print(sum(a))"
   ]
  },
  {
   "cell_type": "code",
   "execution_count": 73,
   "id": "662166ab",
   "metadata": {},
   "outputs": [
    {
     "name": "stdout",
     "output_type": "stream",
     "text": [
      "pythonworkshop\n",
      "python workshop\n"
     ]
    },
    {
     "ename": "TypeError",
     "evalue": "can't multiply sequence by non-int of type 'str'",
     "output_type": "error",
     "traceback": [
      "\u001b[1;31m---------------------------------------------------------------------------\u001b[0m",
      "\u001b[1;31mTypeError\u001b[0m                                 Traceback (most recent call last)",
      "\u001b[1;32m~\\AppData\\Local\\Temp/ipykernel_2800/1439522826.py\u001b[0m in \u001b[0;36m<module>\u001b[1;34m\u001b[0m\n\u001b[0;32m      3\u001b[0m \u001b[0mprint\u001b[0m\u001b[1;33m(\u001b[0m\u001b[0ms\u001b[0m\u001b[1;33m+\u001b[0m\u001b[0ms1\u001b[0m\u001b[1;33m)\u001b[0m\u001b[1;33m\u001b[0m\u001b[1;33m\u001b[0m\u001b[0m\n\u001b[0;32m      4\u001b[0m \u001b[0mprint\u001b[0m\u001b[1;33m(\u001b[0m\u001b[0ms\u001b[0m\u001b[1;33m,\u001b[0m\u001b[0ms1\u001b[0m\u001b[1;33m)\u001b[0m\u001b[1;33m\u001b[0m\u001b[1;33m\u001b[0m\u001b[0m\n\u001b[1;32m----> 5\u001b[1;33m \u001b[0mprint\u001b[0m\u001b[1;33m(\u001b[0m\u001b[0ms\u001b[0m\u001b[1;33m*\u001b[0m\u001b[0ms1\u001b[0m\u001b[1;33m)\u001b[0m\u001b[1;33m\u001b[0m\u001b[1;33m\u001b[0m\u001b[0m\n\u001b[0m",
      "\u001b[1;31mTypeError\u001b[0m: can't multiply sequence by non-int of type 'str'"
     ]
    }
   ],
   "source": [
    "s=\"python\"\n",
    "s1=\"workshop\"\n",
    "print(s+s1)\n",
    "print(s,s1)\n",
    "print(s*s1)"
   ]
  },
  {
   "cell_type": "code",
   "execution_count": 86,
   "id": "a482779a",
   "metadata": {},
   "outputs": [
    {
     "name": "stdout",
     "output_type": "stream",
     "text": [
      "15\n",
      "p\n",
      "n\n",
      "p\n",
      "p\n",
      "o\n",
      "python workshop\n",
      "pohskrow nohtyp\n"
     ]
    }
   ],
   "source": [
    "# slicing syntax::(start:end:step)\n",
    "# positive indexing(left to right)\n",
    "# negative indexing(right to left)\n",
    "s=\"python workshop\"\n",
    "print(len(s))\n",
    "print(s[0])\n",
    "print(s[5])\n",
    "print(s[14])\n",
    "print(s[-1])\n",
    "print(s[-2])\n",
    "print(s[: :])\n",
    "print(s[::-1])"
   ]
  },
  {
   "cell_type": "code",
   "execution_count": 1,
   "id": "36ec62f5",
   "metadata": {},
   "outputs": [
    {
     "data": {
      "text/plain": [
       "['__add__',\n",
       " '__class__',\n",
       " '__contains__',\n",
       " '__delattr__',\n",
       " '__dir__',\n",
       " '__doc__',\n",
       " '__eq__',\n",
       " '__format__',\n",
       " '__ge__',\n",
       " '__getattribute__',\n",
       " '__getitem__',\n",
       " '__getnewargs__',\n",
       " '__gt__',\n",
       " '__hash__',\n",
       " '__init__',\n",
       " '__init_subclass__',\n",
       " '__iter__',\n",
       " '__le__',\n",
       " '__len__',\n",
       " '__lt__',\n",
       " '__mod__',\n",
       " '__mul__',\n",
       " '__ne__',\n",
       " '__new__',\n",
       " '__reduce__',\n",
       " '__reduce_ex__',\n",
       " '__repr__',\n",
       " '__rmod__',\n",
       " '__rmul__',\n",
       " '__setattr__',\n",
       " '__sizeof__',\n",
       " '__str__',\n",
       " '__subclasshook__',\n",
       " 'capitalize',\n",
       " 'casefold',\n",
       " 'center',\n",
       " 'count',\n",
       " 'encode',\n",
       " 'endswith',\n",
       " 'expandtabs',\n",
       " 'find',\n",
       " 'format',\n",
       " 'format_map',\n",
       " 'index',\n",
       " 'isalnum',\n",
       " 'isalpha',\n",
       " 'isascii',\n",
       " 'isdecimal',\n",
       " 'isdigit',\n",
       " 'isidentifier',\n",
       " 'islower',\n",
       " 'isnumeric',\n",
       " 'isprintable',\n",
       " 'isspace',\n",
       " 'istitle',\n",
       " 'isupper',\n",
       " 'join',\n",
       " 'ljust',\n",
       " 'lower',\n",
       " 'lstrip',\n",
       " 'maketrans',\n",
       " 'partition',\n",
       " 'removeprefix',\n",
       " 'removesuffix',\n",
       " 'replace',\n",
       " 'rfind',\n",
       " 'rindex',\n",
       " 'rjust',\n",
       " 'rpartition',\n",
       " 'rsplit',\n",
       " 'rstrip',\n",
       " 'split',\n",
       " 'splitlines',\n",
       " 'startswith',\n",
       " 'strip',\n",
       " 'swapcase',\n",
       " 'title',\n",
       " 'translate',\n",
       " 'upper',\n",
       " 'zfill']"
      ]
     },
     "execution_count": 1,
     "metadata": {},
     "output_type": "execute_result"
    }
   ],
   "source": [
    "dir(str)"
   ]
  },
  {
   "cell_type": "code",
   "execution_count": 10,
   "id": "88900104",
   "metadata": {},
   "outputs": [
    {
     "name": "stdout",
     "output_type": "stream",
     "text": [
      "i am from\n",
      "india\n",
      "       nithin reddy\n",
      "vasavi college\n",
      "vasavi college\n",
      "here we are\n",
      "going to\n",
      "       do wonders\n",
      "38\n"
     ]
    }
   ],
   "source": [
    "s=\"vasavi college\"\n",
    "S='vasavi college'\n",
    "s1='''i am from\n",
    "india\n",
    "       nithin reddy'''\n",
    "s2=\"\"\"here we are\n",
    "going to\n",
    "       do wonders\"\"\"\n",
    "print(s1)\n",
    "print(S)\n",
    "print(s)\n",
    "print(s2)\n",
    "print(len(s2))"
   ]
  },
  {
   "cell_type": "code",
   "execution_count": 8,
   "id": "1981d4e0",
   "metadata": {},
   "outputs": [
    {
     "name": "stdout",
     "output_type": "stream",
     "text": [
      "Vasavi college\n"
     ]
    }
   ],
   "source": [
    "print(s.capitalize())"
   ]
  },
  {
   "cell_type": "code",
   "execution_count": 13,
   "id": "bda93fc0",
   "metadata": {},
   "outputs": [
    {
     "name": "stdout",
     "output_type": "stream",
     "text": [
      "Vijayawada DISTRICT\n",
      "VIJAYAWADA DISTRICT\n",
      "vijayawada district\n"
     ]
    }
   ],
   "source": [
    "n=\"Vijayawada DISTRICT\"\n",
    "print(n)\n",
    "print(n.upper())\n",
    "print(n.lower())"
   ]
  },
  {
   "cell_type": "code",
   "execution_count": 15,
   "id": "03065519",
   "metadata": {},
   "outputs": [
    {
     "name": "stdout",
     "output_type": "stream",
     "text": [
      "faculty development program\n",
      "Faculty Development Program\n"
     ]
    }
   ],
   "source": [
    "m=\"faculty development program\"\n",
    "print(m)\n",
    "print(m.title())"
   ]
  },
  {
   "cell_type": "code",
   "execution_count": 17,
   "id": "0f7552b6",
   "metadata": {},
   "outputs": [
    {
     "name": "stdout",
     "output_type": "stream",
     "text": [
      "True True False\n"
     ]
    }
   ],
   "source": [
    "n1=\"workshop\"\n",
    "n2=\"WORKSHOP\"\n",
    "N3=\"workshop\"\n",
    "print(n1.islower(),n2.isupper(),N3.isupper())"
   ]
  },
  {
   "cell_type": "code",
   "execution_count": 18,
   "id": "413dadb8",
   "metadata": {},
   "outputs": [
    {
     "name": "stdout",
     "output_type": "stream",
     "text": [
      "True\n"
     ]
    }
   ],
   "source": [
    "n3=\"India Is My Country\"\n",
    "print(n3.istitle())"
   ]
  },
  {
   "cell_type": "code",
   "execution_count": 19,
   "id": "f15fb48c",
   "metadata": {},
   "outputs": [
    {
     "name": "stdout",
     "output_type": "stream",
     "text": [
      "True\n"
     ]
    }
   ],
   "source": [
    "n4=\" \"\n",
    "print(n4.isspace())"
   ]
  },
  {
   "cell_type": "code",
   "execution_count": 23,
   "id": "dc6e44c2",
   "metadata": {},
   "outputs": [
    {
     "data": {
      "text/plain": [
       "True"
      ]
     },
     "execution_count": 23,
     "metadata": {},
     "output_type": "execute_result"
    }
   ],
   "source": [
    "#isdigit:: which is used to identify the didits in a given string\n",
    "#isalpha:: which returns true,alphabets present\n",
    "r=\"python\"\n",
    "r.isalpha()\n"
   ]
  },
  {
   "cell_type": "code",
   "execution_count": 24,
   "id": "5c5a6344",
   "metadata": {},
   "outputs": [
    {
     "data": {
      "text/plain": [
       "False"
      ]
     },
     "execution_count": 24,
     "metadata": {},
     "output_type": "execute_result"
    }
   ],
   "source": [
    "r.isdigit()"
   ]
  },
  {
   "cell_type": "code",
   "execution_count": 25,
   "id": "72896e27",
   "metadata": {},
   "outputs": [
    {
     "data": {
      "text/plain": [
       "True"
      ]
     },
     "execution_count": 25,
     "metadata": {},
     "output_type": "execute_result"
    }
   ],
   "source": [
    "s=\"34569741256\"\n",
    "s.isalnum()"
   ]
  },
  {
   "cell_type": "code",
   "execution_count": 27,
   "id": "5615641b",
   "metadata": {},
   "outputs": [
    {
     "data": {
      "text/plain": [
       "['pytho', 'n is a la', 'test v', 'ersion a', 'nd tod', 'ay is thus', 'rsday']"
      ]
     },
     "execution_count": 27,
     "metadata": {},
     "output_type": "execute_result"
    }
   ],
   "source": [
    "s1=\"python is a latest version and today is thusrsday\"\n",
    "s2=\"pytho@n is a la@test v@ersion a@nd tod@ay is thus@rsday\"\n",
    "s2.split('@')"
   ]
  },
  {
   "cell_type": "code",
   "execution_count": 28,
   "id": "6a54d640",
   "metadata": {},
   "outputs": [
    {
     "data": {
      "text/plain": [
       "['python', 'is', 'a', 'latest', 'version', 'and', 'today', 'is', 'thusrsday']"
      ]
     },
     "execution_count": 28,
     "metadata": {},
     "output_type": "execute_result"
    }
   ],
   "source": [
    "s1.split()"
   ]
  },
  {
   "cell_type": "code",
   "execution_count": 31,
   "id": "cc07d879",
   "metadata": {},
   "outputs": [
    {
     "name": "stdout",
     "output_type": "stream",
     "text": [
      "date OF BIRTH\n"
     ]
    }
   ],
   "source": [
    "s2=\"DATE of birth\"\n",
    "s=''\n",
    "for i in s2:\n",
    "    if i.islower():\n",
    "        s +=i.upper()\n",
    "    else:\n",
    "        s +=i.lower()\n",
    "print(s)        "
   ]
  },
  {
   "cell_type": "code",
   "execution_count": 33,
   "id": "634f2071",
   "metadata": {},
   "outputs": [
    {
     "data": {
      "text/plain": [
       "'date OF BIRTH'"
      ]
     },
     "execution_count": 33,
     "metadata": {},
     "output_type": "execute_result"
    }
   ],
   "source": [
    "#swap case\n",
    "s2.swapcase()"
   ]
  },
  {
   "cell_type": "code",
   "execution_count": 34,
   "id": "824e623c",
   "metadata": {},
   "outputs": [
    {
     "data": {
      "text/plain": [
       "0"
      ]
     },
     "execution_count": 34,
     "metadata": {},
     "output_type": "execute_result"
    }
   ],
   "source": [
    "s2.count('a')"
   ]
  },
  {
   "cell_type": "code",
   "execution_count": 38,
   "id": "6714da9c",
   "metadata": {},
   "outputs": [
    {
     "data": {
      "text/plain": [
       "3"
      ]
     },
     "execution_count": 38,
     "metadata": {},
     "output_type": "execute_result"
    }
   ],
   "source": [
    "b=\"ksharon k k\"\n",
    "b.count('k')"
   ]
  },
  {
   "cell_type": "code",
   "execution_count": 39,
   "id": "883b4eee",
   "metadata": {},
   "outputs": [
    {
     "data": {
      "text/plain": [
       "2"
      ]
     },
     "execution_count": 39,
     "metadata": {},
     "output_type": "execute_result"
    }
   ],
   "source": [
    "b.index('h')"
   ]
  },
  {
   "cell_type": "code",
   "execution_count": 40,
   "id": "80174042",
   "metadata": {},
   "outputs": [
    {
     "data": {
      "text/plain": [
       "2"
      ]
     },
     "execution_count": 40,
     "metadata": {},
     "output_type": "execute_result"
    }
   ],
   "source": [
    "b.rindex('h')"
   ]
  },
  {
   "cell_type": "code",
   "execution_count": 41,
   "id": "7ef59bb3",
   "metadata": {},
   "outputs": [
    {
     "data": {
      "text/plain": [
       "3"
      ]
     },
     "execution_count": 41,
     "metadata": {},
     "output_type": "execute_result"
    }
   ],
   "source": [
    "#find--it will return index position of that index\n",
    "b.find('a')"
   ]
  },
  {
   "cell_type": "code",
   "execution_count": 48,
   "id": "c6e00293",
   "metadata": {},
   "outputs": [
    {
     "data": {
      "text/plain": [
       "2"
      ]
     },
     "execution_count": 48,
     "metadata": {},
     "output_type": "execute_result"
    }
   ],
   "source": [
    "a=\"this is a python workshop\"\n",
    "a.index('is')"
   ]
  },
  {
   "cell_type": "code",
   "execution_count": 43,
   "id": "1322015f",
   "metadata": {},
   "outputs": [
    {
     "data": {
      "text/plain": [
       "'hi vasavi college'"
      ]
     },
     "execution_count": 43,
     "metadata": {},
     "output_type": "execute_result"
    }
   ],
   "source": [
    "# replace:: used to replace the old characters\n",
    "# strip :: used to remove white spaces\n",
    "d=\"bye vasavi college\"\n",
    "d.replace('bye','hi')"
   ]
  },
  {
   "cell_type": "code",
   "execution_count": 44,
   "id": "a12061af",
   "metadata": {},
   "outputs": [
    {
     "data": {
      "text/plain": [
       "'hello sdc'"
      ]
     },
     "execution_count": 44,
     "metadata": {},
     "output_type": "execute_result"
    }
   ],
   "source": [
    "d=\"  hello sdc    \"\n",
    "d.strip()"
   ]
  },
  {
   "cell_type": "code",
   "execution_count": 45,
   "id": "7a735ea9",
   "metadata": {},
   "outputs": [
    {
     "data": {
      "text/plain": [
       "'hello sdc    '"
      ]
     },
     "execution_count": 45,
     "metadata": {},
     "output_type": "execute_result"
    }
   ],
   "source": [
    "d.lstrip()"
   ]
  },
  {
   "cell_type": "code",
   "execution_count": 46,
   "id": "4163280b",
   "metadata": {},
   "outputs": [
    {
     "data": {
      "text/plain": [
       "'  hello sdc'"
      ]
     },
     "execution_count": 46,
     "metadata": {},
     "output_type": "execute_result"
    }
   ],
   "source": [
    "d.rstrip()"
   ]
  },
  {
   "cell_type": "code",
   "execution_count": 53,
   "id": "854220b7",
   "metadata": {},
   "outputs": [
    {
     "data": {
      "text/plain": [
       "'t.h.u.r.s.d.a.y'"
      ]
     },
     "execution_count": 53,
     "metadata": {},
     "output_type": "execute_result"
    }
   ],
   "source": [
    "# join\n",
    "# center\n",
    "# startswith\n",
    "#endswith\n",
    "a=\"thursday\"\n",
    "'.'.join(a)"
   ]
  },
  {
   "cell_type": "code",
   "execution_count": 55,
   "id": "8b7305c5",
   "metadata": {},
   "outputs": [
    {
     "data": {
      "text/plain": [
       "'thursday'"
      ]
     },
     "execution_count": 55,
     "metadata": {},
     "output_type": "execute_result"
    }
   ],
   "source": [
    "a.center(4)"
   ]
  },
  {
   "cell_type": "code",
   "execution_count": 56,
   "id": "ce9e5c38",
   "metadata": {},
   "outputs": [
    {
     "data": {
      "text/plain": [
       "'00thursday'"
      ]
     },
     "execution_count": 56,
     "metadata": {},
     "output_type": "execute_result"
    }
   ],
   "source": [
    "a.zfill(10)"
   ]
  },
  {
   "cell_type": "code",
   "execution_count": 57,
   "id": "b1acc5df",
   "metadata": {},
   "outputs": [
    {
     "data": {
      "text/plain": [
       "35"
      ]
     },
     "execution_count": 57,
     "metadata": {},
     "output_type": "execute_result"
    }
   ],
   "source": [
    "s2=\"today is the thirday of the program\"\n",
    "len(s2)"
   ]
  },
  {
   "cell_type": "code",
   "execution_count": 59,
   "id": "20b42bc6",
   "metadata": {},
   "outputs": [
    {
     "data": {
      "text/plain": [
       "'000000today is the thirday of the program'"
      ]
     },
     "execution_count": 59,
     "metadata": {},
     "output_type": "execute_result"
    }
   ],
   "source": [
    "s2.zfill(41)"
   ]
  },
  {
   "cell_type": "code",
   "execution_count": 60,
   "id": "df0dff1a",
   "metadata": {},
   "outputs": [
    {
     "data": {
      "text/plain": [
       "True"
      ]
     },
     "execution_count": 60,
     "metadata": {},
     "output_type": "execute_result"
    }
   ],
   "source": [
    "s2.startswith('to')"
   ]
  },
  {
   "cell_type": "code",
   "execution_count": 61,
   "id": "24ec9a85",
   "metadata": {},
   "outputs": [
    {
     "data": {
      "text/plain": [
       "False"
      ]
     },
     "execution_count": 61,
     "metadata": {},
     "output_type": "execute_result"
    }
   ],
   "source": [
    "s2.startswith('day')"
   ]
  },
  {
   "cell_type": "code",
   "execution_count": 62,
   "id": "c9064587",
   "metadata": {},
   "outputs": [
    {
     "data": {
      "text/plain": [
       "False"
      ]
     },
     "execution_count": 62,
     "metadata": {},
     "output_type": "execute_result"
    }
   ],
   "source": [
    "s2.endswith('pro')"
   ]
  },
  {
   "cell_type": "code",
   "execution_count": 65,
   "id": "df803c39",
   "metadata": {},
   "outputs": [
    {
     "data": {
      "text/plain": [
       "True"
      ]
     },
     "execution_count": 65,
     "metadata": {},
     "output_type": "execute_result"
    }
   ],
   "source": [
    "s2.endswith('gram')"
   ]
  },
  {
   "cell_type": "markdown",
   "id": "c994491c",
   "metadata": {},
   "source": [
    "### Data Structures\n",
    "- List \n",
    "    - it is one of the data structure in python\n",
    "    - list is mutable\n",
    "    - represented with []\n",
    "    - slicing and indexing are same as strings concepts\n",
    "- Tuple\n",
    "- Dictionaries\n",
    "- DT are two types:\n",
    "    - Immutable\n",
    "       - we cant change it omce it declared\n",
    "       - ex: String,Tuple\n",
    "    - Mutable\n",
    "       - we can change at any time after its declaration\n",
    "       - ex: List,Dictionaries"
   ]
  },
  {
   "cell_type": "code",
   "execution_count": 66,
   "id": "286b61a0",
   "metadata": {},
   "outputs": [
    {
     "name": "stdout",
     "output_type": "stream",
     "text": [
      "[1, 2, 3, 6, 9]\n"
     ]
    }
   ],
   "source": [
    "li=[1,2,3,6,9]\n",
    "print(li)"
   ]
  },
  {
   "cell_type": "code",
   "execution_count": 67,
   "id": "c9688600",
   "metadata": {},
   "outputs": [
    {
     "data": {
      "text/plain": [
       "5"
      ]
     },
     "execution_count": 67,
     "metadata": {},
     "output_type": "execute_result"
    }
   ],
   "source": [
    "len(li)"
   ]
  },
  {
   "cell_type": "code",
   "execution_count": 68,
   "id": "45813aaf",
   "metadata": {},
   "outputs": [
    {
     "name": "stdout",
     "output_type": "stream",
     "text": [
      "length of the list 5\n",
      "max one of the list 9\n",
      "min one of the list 1\n"
     ]
    }
   ],
   "source": [
    "print(\"length of the list\",len(li))\n",
    "print(\"max one of the list\",max(li))\n",
    "print(\"min one of the list\",min(li))"
   ]
  },
  {
   "cell_type": "code",
   "execution_count": 78,
   "id": "fb8c45f5",
   "metadata": {},
   "outputs": [
    {
     "data": {
      "text/plain": [
       "['apple', 5, 6, 4, 8, 'today', 5]"
      ]
     },
     "execution_count": 78,
     "metadata": {},
     "output_type": "execute_result"
    }
   ],
   "source": [
    "a=['apple',5,6]\n",
    "b=[4,8,'today',5]\n",
    "a+b"
   ]
  },
  {
   "cell_type": "code",
   "execution_count": 79,
   "id": "9dc71b0c",
   "metadata": {},
   "outputs": [
    {
     "data": {
      "text/plain": [
       "[4, 8, 'today', 5, 'apple', 5, 6]"
      ]
     },
     "execution_count": 79,
     "metadata": {},
     "output_type": "execute_result"
    }
   ],
   "source": [
    "b+a"
   ]
  },
  {
   "cell_type": "code",
   "execution_count": 80,
   "id": "4ab28411",
   "metadata": {},
   "outputs": [
    {
     "data": {
      "text/plain": [
       "['apple', 5, 6, 'apple', 5, 6, 'apple', 5, 6]"
      ]
     },
     "execution_count": 80,
     "metadata": {},
     "output_type": "execute_result"
    }
   ],
   "source": [
    "a*3"
   ]
  },
  {
   "cell_type": "code",
   "execution_count": 81,
   "id": "20f774c9",
   "metadata": {},
   "outputs": [
    {
     "data": {
      "text/plain": [
       "['apple', 5, 6, 4, 8, 'today', 5, 'apple', 5, 6, 4, 8, 'today', 5]"
      ]
     },
     "execution_count": 81,
     "metadata": {},
     "output_type": "execute_result"
    }
   ],
   "source": [
    "(a+b)*2"
   ]
  },
  {
   "cell_type": "code",
   "execution_count": 82,
   "id": "0c0aa539",
   "metadata": {},
   "outputs": [
    {
     "data": {
      "text/plain": [
       "True"
      ]
     },
     "execution_count": 82,
     "metadata": {},
     "output_type": "execute_result"
    }
   ],
   "source": [
    "'apple' in a"
   ]
  },
  {
   "cell_type": "code",
   "execution_count": 84,
   "id": "f54dfeef",
   "metadata": {},
   "outputs": [
    {
     "data": {
      "text/plain": [
       "True"
      ]
     },
     "execution_count": 84,
     "metadata": {},
     "output_type": "execute_result"
    }
   ],
   "source": [
    "'today' not in a"
   ]
  },
  {
   "cell_type": "code",
   "execution_count": 85,
   "id": "ec486aef",
   "metadata": {},
   "outputs": [
    {
     "data": {
      "text/plain": [
       "True"
      ]
     },
     "execution_count": 85,
     "metadata": {},
     "output_type": "execute_result"
    }
   ],
   "source": [
    "'today' in b"
   ]
  },
  {
   "cell_type": "code",
   "execution_count": 86,
   "id": "b2892a7b",
   "metadata": {},
   "outputs": [
    {
     "data": {
      "text/plain": [
       "False"
      ]
     },
     "execution_count": 86,
     "metadata": {},
     "output_type": "execute_result"
    }
   ],
   "source": [
    "'today' not in b"
   ]
  },
  {
   "cell_type": "code",
   "execution_count": 88,
   "id": "2b6a7547",
   "metadata": {},
   "outputs": [
    {
     "data": {
      "text/plain": [
       "'siddu'"
      ]
     },
     "execution_count": 88,
     "metadata": {},
     "output_type": "execute_result"
    }
   ],
   "source": [
    "names=['siddu','nithin','swami','mani','sharon','mahesh']\n",
    "names[0]"
   ]
  },
  {
   "cell_type": "code",
   "execution_count": 89,
   "id": "872e066b",
   "metadata": {},
   "outputs": [
    {
     "data": {
      "text/plain": [
       "'mahesh'"
      ]
     },
     "execution_count": 89,
     "metadata": {},
     "output_type": "execute_result"
    }
   ],
   "source": [
    "names[5]"
   ]
  },
  {
   "cell_type": "code",
   "execution_count": 100,
   "id": "3d3e7ba5",
   "metadata": {},
   "outputs": [
    {
     "data": {
      "text/plain": [
       "['siddu', 'nithin', 'swami']"
      ]
     },
     "execution_count": 100,
     "metadata": {},
     "output_type": "execute_result"
    }
   ],
   "source": [
    "names[0:3]"
   ]
  },
  {
   "cell_type": "code",
   "execution_count": 94,
   "id": "0ec6a13d",
   "metadata": {},
   "outputs": [
    {
     "data": {
      "text/plain": [
       "'mesh'"
      ]
     },
     "execution_count": 94,
     "metadata": {},
     "output_type": "execute_result"
    }
   ],
   "source": [
    "s='ramesh'\n",
    "s[0]\n",
    "s[:3]\n",
    "s[2:6]"
   ]
  },
  {
   "cell_type": "code",
   "execution_count": 102,
   "id": "57094f44",
   "metadata": {},
   "outputs": [
    {
     "data": {
      "text/plain": [
       "['hostel', 'students']"
      ]
     },
     "execution_count": 102,
     "metadata": {},
     "output_type": "execute_result"
    }
   ],
   "source": [
    "li2=['vasavi','college','hostel','students']\n",
    "li2[2:]"
   ]
  },
  {
   "cell_type": "code",
   "execution_count": 103,
   "id": "781454b5",
   "metadata": {},
   "outputs": [
    {
     "data": {
      "text/plain": [
       "['vasavi', 'college']"
      ]
     },
     "execution_count": 103,
     "metadata": {},
     "output_type": "execute_result"
    }
   ],
   "source": [
    "li2[:2]"
   ]
  },
  {
   "cell_type": "code",
   "execution_count": 108,
   "id": "8ed0ac15",
   "metadata": {},
   "outputs": [
    {
     "data": {
      "text/plain": [
       "['college', 'hostel']"
      ]
     },
     "execution_count": 108,
     "metadata": {},
     "output_type": "execute_result"
    }
   ],
   "source": [
    "li2[1:3]"
   ]
  },
  {
   "cell_type": "code",
   "execution_count": null,
   "id": "20ab0683",
   "metadata": {},
   "outputs": [],
   "source": []
  }
 ],
 "metadata": {
  "kernelspec": {
   "display_name": "Python 3 (ipykernel)",
   "language": "python",
   "name": "python3"
  },
  "language_info": {
   "codemirror_mode": {
    "name": "ipython",
    "version": 3
   },
   "file_extension": ".py",
   "mimetype": "text/x-python",
   "name": "python",
   "nbconvert_exporter": "python",
   "pygments_lexer": "ipython3",
   "version": "3.9.7"
  }
 },
 "nbformat": 4,
 "nbformat_minor": 5
}
